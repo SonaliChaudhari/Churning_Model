{
 "cells": [
  {
   "cell_type": "code",
   "execution_count": 1,
   "metadata": {},
   "outputs": [],
   "source": [
    "import pandas as pd\n",
    "import csv\n",
    "# import warnings\n",
    "# warnings.filterwarnings(\"ignore\")\n",
    "import numpy as np\n",
    "from sklearn.preprocessing import StandardScaler"
   ]
  },
  {
   "cell_type": "code",
   "execution_count": 2,
   "metadata": {},
   "outputs": [
    {
     "name": "stdout",
     "output_type": "stream",
     "text": [
      "Churned customer     :  1869\n",
      "Non-Churned customer :  5163\n"
     ]
    }
   ],
   "source": [
    "data = pd.read_csv(\"/Users/sonalichaudhari/Desktop/Churning/Data/Data_for_models.csv\")\n",
    "\n",
    "print(\"Churned customer     : \", data[data['Churn']==1].shape[0])\n",
    "print(\"Non-Churned customer : \",data[data['Churn']==0].shape[0])"
   ]
  },
  {
   "cell_type": "code",
   "execution_count": 3,
   "metadata": {},
   "outputs": [],
   "source": [
    "target = ['Churn']\n",
    "id_col = ['customerID']\n",
    "\n",
    "cols = [i for i in data.columns if i not in id_col + target ]\n",
    "\n",
    "#dataframe with non negative values\n",
    "X = data[cols].values\n",
    "y = data[target].values"
   ]
  },
  {
   "cell_type": "code",
   "execution_count": 4,
   "metadata": {},
   "outputs": [],
   "source": [
    "#Splitting the data\n",
    "\n",
    "from sklearn.model_selection import train_test_split\n",
    "\n",
    "X_train, X_test, y_train, y_test = train_test_split(X,np.ravel(y),stratify= y,test_size = 0.3, random_state = 0)\n",
    "\n",
    "sc = StandardScaler()\n",
    "# Feature Scaling\n",
    "X_train = sc.fit_transform(X_train)\n",
    "X_test = sc.transform(X_test)"
   ]
  },
  {
   "cell_type": "code",
   "execution_count": 5,
   "metadata": {},
   "outputs": [
    {
     "data": {
      "text/plain": [
       "array([0, 1, 0, ..., 0, 0, 0])"
      ]
     },
     "execution_count": 5,
     "metadata": {},
     "output_type": "execute_result"
    }
   ],
   "source": [
    "y_train"
   ]
  },
  {
   "cell_type": "markdown",
   "metadata": {},
   "source": [
    "### Sampling\n",
    "Reference\n",
    "\n",
    "https://www.kaggle.com/qianchao/smote-with-imbalance-data\n",
    "\n",
    "https://towardsdatascience.com/dealing-with-imbalanced-classes-in-machine-learning-d43d6fa19d2\n",
    "\n",
    "A simple way to fix imbalanced data-sets is simply to balance them, either by oversampling instances of the minority class or undersampling instances of the majority class.\n",
    "\n",
    "The most well known example of this is SMOTE, which actually creates new instances of the minority class by forming convex combinations of neighboring instances."
   ]
  },
  {
   "cell_type": "code",
   "execution_count": 6,
   "metadata": {},
   "outputs": [],
   "source": [
    "# Using SMOTE to split the imbalanced data\n",
    "from imblearn.over_sampling import SMOTE\n",
    " \n",
    "sm = SMOTE(random_state=2)\n",
    "X_train_smote, X_test_smote,y_train_smote,y_test_smote =train_test_split(X,np.ravel(y), test_size=0.3, random_state=0)\n",
    "Train_X_smote, Train_y_smote = sm.fit_sample(X_train_smote,y_train_smote)"
   ]
  },
  {
   "cell_type": "code",
   "execution_count": 10,
   "metadata": {},
   "outputs": [],
   "source": [
    "from sklearn.linear_model import LogisticRegression\n",
    "from sklearn.svm import SVC\n",
    "from sklearn import svm\n",
    "from sklearn import metrics\n",
    "from sklearn.cross_validation import cross_val_score, cross_val_predict\n",
    "import matplotlib.pyplot as plt\n",
    "import seaborn as sns\n",
    "%matplotlib inline"
   ]
  },
  {
   "cell_type": "markdown",
   "metadata": {},
   "source": [
    "# Logistic Regression"
   ]
  },
  {
   "cell_type": "code",
   "execution_count": 11,
   "metadata": {},
   "outputs": [
    {
     "name": "stdout",
     "output_type": "stream",
     "text": [
      "[[1404  145]\n",
      " [ 266  295]]\n",
      "\n",
      "Accuracy: 0.8052132701421801\n",
      "Precision: 0.6704545454545454\n",
      "Recall: 0.5258467023172906\n"
     ]
    },
    {
     "data": {
      "image/png": "[encoded data removed]",
      "text/plain": [
       "<Figure size 432x288 with 2 Axes>"
      ]
     },
     "metadata": {
      "needs_background": "light"
     },
     "output_type": "display_data"
    }
   ],
   "source": [
    "logreg  = LogisticRegression(C=1.0, class_weight=None, dual=False, fit_intercept=True,\n",
    "          intercept_scaling=1, max_iter=100, multi_class='ovr', n_jobs=1,\n",
    "          penalty='l2', random_state=None, solver='liblinear', tol=0.0001,\n",
    "          verbose=0, warm_start=False)\n",
    "\n",
    "logreg.fit(X_train,y_train)\n",
    "y_pred=logreg.predict(X_test)\n",
    "confusion = metrics.confusion_matrix(y_test, y_pred)\n",
    "print(confusion)\n",
    "\n",
    "class_names=[0,1] # name  of classes\n",
    "fig, ax = plt.subplots()\n",
    "tick_marks = np.arange(len(class_names))\n",
    "plt.xticks(tick_marks, class_names)\n",
    "plt.yticks(tick_marks, class_names)\n",
    "# create heatmap\n",
    "sns.heatmap(pd.DataFrame(confusion), annot=True, cmap=\"YlGnBu\" ,fmt='g')\n",
    "ax.xaxis.set_label_position(\"top\")\n",
    "plt.tight_layout()\n",
    "plt.title('Confusion matrix', y=1.1)\n",
    "plt.ylabel('Actual label')\n",
    "plt.xlabel('Predicted label')\n",
    "\n",
    "print(\"\\nAccuracy:\",metrics.accuracy_score(y_test, y_pred))\n",
    "print(\"Precision:\",metrics.precision_score(y_test, y_pred))\n",
    "print(\"Recall:\",metrics.recall_score(y_test, y_pred))"
   ]
  },
  {
   "cell_type": "code",
   "execution_count": 12,
   "metadata": {},
   "outputs": [
    {
     "name": "stdout",
     "output_type": "stream",
     "text": [
      "[[1149  406]\n",
      " [ 117  438]]\n",
      "\n",
      "Accuracy: 0.752132701421801\n",
      "Precision: 0.518957345971564\n",
      "Recall: 0.7891891891891892\n"
     ]
    },
    {
     "data": {
      "image/png": "[encoded data removed]",
      "text/plain": [
       "<Figure size 432x288 with 2 Axes>"
      ]
     },
     "metadata": {
      "needs_background": "light"
     },
     "output_type": "display_data"
    }
   ],
   "source": [
    "logreg  = LogisticRegression(C=1.0, class_weight=None, dual=False, fit_intercept=True,\n",
    "          intercept_scaling=1, max_iter=100, multi_class='ovr', n_jobs=1,\n",
    "          penalty='l2', random_state=None, solver='liblinear', tol=0.0001,\n",
    "          verbose=0, warm_start=False)\n",
    "\n",
    "logreg.fit(Train_X_smote,Train_y_smote)\n",
    "y_pred=logreg.predict(X_test_smote)\n",
    "confusion = metrics.confusion_matrix(y_test_smote, y_pred)\n",
    "print(confusion)\n",
    "\n",
    "class_names=[0,1] # name  of classes\n",
    "fig, ax = plt.subplots()\n",
    "tick_marks = np.arange(len(class_names))\n",
    "plt.xticks(tick_marks, class_names)\n",
    "plt.yticks(tick_marks, class_names)\n",
    "# create heatmap\n",
    "sns.heatmap(pd.DataFrame(confusion), annot=True, cmap=\"YlGnBu\" ,fmt='g')\n",
    "ax.xaxis.set_label_position(\"top\")\n",
    "plt.tight_layout()\n",
    "plt.title('Confusion matrix', y=1.1)\n",
    "plt.ylabel('Actual label')\n",
    "plt.xlabel('Predicted label')\n",
    "\n",
    "print(\"\\nAccuracy:\",metrics.accuracy_score(y_test_smote, y_pred))\n",
    "print(\"Precision:\",metrics.precision_score(y_test_smote, y_pred))\n",
    "print(\"Recall:\",metrics.recall_score(y_test_smote, y_pred))"
   ]
  },
  {
   "cell_type": "markdown",
   "metadata": {},
   "source": [
    "#Cross validation\n",
    "\n",
    "https://towardsdatascience.com/train-test-split-and-cross-validation-in-python-80b61beca4b6\n",
    "\n",
    "model = logreg\n",
    "scores = cross_val_score(model, df, y, cv=6)\n",
    "print(\"Cross-validated scores:\", scores)\n",
    "\n",
    "df = np.array(X_train)\n",
    "y = np.array(y_train)"
   ]
  },
  {
   "cell_type": "code",
   "execution_count": 13,
   "metadata": {},
   "outputs": [
    {
     "name": "stdout",
     "output_type": "stream",
     "text": [
      "0.001\n",
      "\n",
      "Accuracy: 0.7341232227488151\n",
      "0.01\n",
      "\n",
      "Accuracy: 0.7535545023696683\n",
      "0.1\n",
      "\n",
      "Accuracy: 0.752132701421801\n",
      "1\n",
      "\n",
      "Accuracy: 0.752132701421801\n",
      "10\n",
      "\n",
      "Accuracy: 0.752132701421801\n",
      "100\n",
      "\n",
      "Accuracy: 0.752132701421801\n"
     ]
    }
   ],
   "source": [
    "C_param_range = [0.001,0.01,0.1,1,10,100]\n",
    "j=0\n",
    "for i in C_param_range:\n",
    "    print(i)\n",
    "    lr = LogisticRegression(penalty = 'l2', C = i,random_state = 0)\n",
    "    lr.fit(Train_X_smote,Train_y_smote)\n",
    "    y_pred = lr.predict(X_test_smote)\n",
    "    print(\"\\nAccuracy:\",metrics.accuracy_score(y_test_smote,y_pred))"
   ]
  },
  {
   "cell_type": "markdown",
   "metadata": {},
   "source": [
    "# SVM"
   ]
  },
  {
   "cell_type": "code",
   "execution_count": null,
   "metadata": {},
   "outputs": [],
   "source": [
    "#Create a svm Classifier\n",
    "clf = svm.SVC(kernel='linear') # Linear Kernel\n",
    "clf.fit(Train_X_smote, Train_y_smote)\n",
    "\n",
    "y_pred = clf.predict(X_test_smote)\n",
    "\n",
    "print(\"Accuracy:\",metrics.accuracy_score(y_test_smote, y_pred))\n",
    "print(\"Precision:\",metrics.precision_score(y_test_smote, y_pred))\n",
    "print(\"Recall:\",metrics.recall_score(y_test_smote, y_pred))"
   ]
  },
  {
   "cell_type": "code",
   "execution_count": 19,
   "metadata": {},
   "outputs": [
    {
     "name": "stdout",
     "output_type": "stream",
     "text": [
      "0.7255924170616114\n",
      "[[1265  290]\n",
      " [ 444  111]]\n"
     ]
    }
   ],
   "source": [
    "svc= SVC(kernel='rbf',gamma=0.01)\n",
    "svc.fit(Train_X_smote,Train_y_smote)\n",
    "y_predict=svc.predict(X_test_smote)\n",
    "print(metrics.accuracy_score(y_test_smote,y_predict))\n",
    "confusion = metrics.confusion_matrix(y_test_smote, y_pred)\n",
    "print(confusion)"
   ]
  },
  {
   "cell_type": "code",
   "execution_count": 16,
   "metadata": {},
   "outputs": [
    {
     "name": "stdout",
     "output_type": "stream",
     "text": [
      "Accuracy Score:\n",
      "0.795260663507109\n",
      "[[1413  136]\n",
      " [ 296  265]]\n"
     ]
    }
   ],
   "source": [
    "svc=SVC(kernel='poly')\n",
    "svc.fit(X_train,y_train)\n",
    "y_pred=svc.predict(X_test)\n",
    "print('Accuracy Score:')\n",
    "print(metrics.accuracy_score(y_test,y_pred))\n",
    "confusion = metrics.confusion_matrix(y_test, y_pred)\n",
    "print(confusion)"
   ]
  },
  {
   "cell_type": "markdown",
   "metadata": {},
   "source": [
    "# ANN"
   ]
  },
  {
   "cell_type": "code",
   "execution_count": 20,
   "metadata": {},
   "outputs": [
    {
     "name": "stderr",
     "output_type": "stream",
     "text": [
      "Using TensorFlow backend.\n"
     ]
    },
    {
     "name": "stdout",
     "output_type": "stream",
     "text": [
      "Epoch 1/100\n",
      "4922/4922 [==============================] - 1s 250us/step - loss: 0.5085 - acc: 0.7343\n",
      "Epoch 2/100\n",
      "4922/4922 [==============================] - 1s 153us/step - loss: 0.4402 - acc: 0.7424\n",
      "Epoch 3/100\n",
      "4922/4922 [==============================] - 1s 153us/step - loss: 0.4332 - acc: 0.7962\n",
      "Epoch 4/100\n",
      "4922/4922 [==============================] - 1s 154us/step - loss: 0.4293 - acc: 0.7989\n",
      "Epoch 5/100\n",
      "4922/4922 [==============================] - 1s 153us/step - loss: 0.4259 - acc: 0.8015\n",
      "Epoch 6/100\n",
      "4922/4922 [==============================] - 1s 153us/step - loss: 0.4235 - acc: 0.8046\n",
      "Epoch 7/100\n",
      "4922/4922 [==============================] - 1s 147us/step - loss: 0.4217 - acc: 0.8072\n",
      "Epoch 8/100\n",
      "4922/4922 [==============================] - 1s 158us/step - loss: 0.4195 - acc: 0.8070\n",
      "Epoch 9/100\n",
      "4922/4922 [==============================] - 1s 138us/step - loss: 0.4180 - acc: 0.8074\n",
      "Epoch 10/100\n",
      "4922/4922 [==============================] - 1s 153us/step - loss: 0.4167 - acc: 0.8080\n",
      "Epoch 11/100\n",
      "4922/4922 [==============================] - 1s 154us/step - loss: 0.4150 - acc: 0.8074\n",
      "Epoch 12/100\n",
      "4922/4922 [==============================] - 1s 159us/step - loss: 0.4142 - acc: 0.8115\n",
      "Epoch 13/100\n",
      "4922/4922 [==============================] - 1s 156us/step - loss: 0.4133 - acc: 0.8096\n",
      "Epoch 14/100\n",
      "4922/4922 [==============================] - 1s 155us/step - loss: 0.4126 - acc: 0.8078\n",
      "Epoch 15/100\n",
      "4922/4922 [==============================] - 1s 138us/step - loss: 0.4117 - acc: 0.8088\n",
      "Epoch 16/100\n",
      "4922/4922 [==============================] - 1s 147us/step - loss: 0.4110 - acc: 0.8100\n",
      "Epoch 17/100\n",
      "4922/4922 [==============================] - 1s 149us/step - loss: 0.4107 - acc: 0.8119\n",
      "Epoch 18/100\n",
      "4922/4922 [==============================] - 1s 148us/step - loss: 0.4098 - acc: 0.8111\n",
      "Epoch 19/100\n",
      "4922/4922 [==============================] - 1s 155us/step - loss: 0.4092 - acc: 0.8117\n",
      "Epoch 20/100\n",
      "4922/4922 [==============================] - 1s 156us/step - loss: 0.4092 - acc: 0.8115\n",
      "Epoch 21/100\n",
      "4922/4922 [==============================] - 1s 154us/step - loss: 0.4083 - acc: 0.8119\n",
      "Epoch 22/100\n",
      "4922/4922 [==============================] - 1s 159us/step - loss: 0.4082 - acc: 0.8104\n",
      "Epoch 23/100\n",
      "4922/4922 [==============================] - 1s 156us/step - loss: 0.4078 - acc: 0.8090\n",
      "Epoch 24/100\n",
      "4922/4922 [==============================] - 1s 142us/step - loss: 0.4082 - acc: 0.8100\n",
      "Epoch 25/100\n",
      "4922/4922 [==============================] - 1s 156us/step - loss: 0.4071 - acc: 0.8108\n",
      "Epoch 26/100\n",
      "4922/4922 [==============================] - 1s 155us/step - loss: 0.4072 - acc: 0.8088\n",
      "Epoch 27/100\n",
      "4922/4922 [==============================] - 1s 156us/step - loss: 0.4066 - acc: 0.8102\n",
      "Epoch 28/100\n",
      "4922/4922 [==============================] - 1s 156us/step - loss: 0.4063 - acc: 0.8104\n",
      "Epoch 29/100\n",
      "4922/4922 [==============================] - 1s 156us/step - loss: 0.4061 - acc: 0.8115\n",
      "Epoch 30/100\n",
      "4922/4922 [==============================] - 1s 157us/step - loss: 0.4061 - acc: 0.8113\n",
      "Epoch 31/100\n",
      "4922/4922 [==============================] - 1s 156us/step - loss: 0.4059 - acc: 0.8106\n",
      "Epoch 32/100\n",
      "4922/4922 [==============================] - 1s 155us/step - loss: 0.4056 - acc: 0.8111\n",
      "Epoch 33/100\n",
      "4922/4922 [==============================] - 1s 155us/step - loss: 0.4057 - acc: 0.8070\n",
      "Epoch 34/100\n",
      "4922/4922 [==============================] - 1s 149us/step - loss: 0.4053 - acc: 0.8111\n",
      "Epoch 35/100\n",
      "4922/4922 [==============================] - 1s 149us/step - loss: 0.4053 - acc: 0.8072\n",
      "Epoch 36/100\n",
      "4922/4922 [==============================] - 1s 154us/step - loss: 0.4052 - acc: 0.8086\n",
      "Epoch 37/100\n",
      "4922/4922 [==============================] - 1s 141us/step - loss: 0.4055 - acc: 0.8104\n",
      "Epoch 38/100\n",
      "4922/4922 [==============================] - 1s 152us/step - loss: 0.4046 - acc: 0.8108\n",
      "Epoch 39/100\n",
      "4922/4922 [==============================] - 1s 150us/step - loss: 0.4048 - acc: 0.8086\n",
      "Epoch 40/100\n",
      "4922/4922 [==============================] - 1s 152us/step - loss: 0.4045 - acc: 0.8092\n",
      "Epoch 41/100\n",
      "4922/4922 [==============================] - 1s 148us/step - loss: 0.4046 - acc: 0.8104\n",
      "Epoch 42/100\n",
      "4922/4922 [==============================] - 1s 144us/step - loss: 0.4046 - acc: 0.8068\n",
      "Epoch 43/100\n",
      "4922/4922 [==============================] - 1s 154us/step - loss: 0.4044 - acc: 0.8096\n",
      "Epoch 44/100\n",
      "4922/4922 [==============================] - 1s 156us/step - loss: 0.4046 - acc: 0.8102\n",
      "Epoch 45/100\n",
      "4922/4922 [==============================] - 1s 156us/step - loss: 0.4038 - acc: 0.8106\n",
      "Epoch 46/100\n",
      "4922/4922 [==============================] - 1s 149us/step - loss: 0.4038 - acc: 0.8108\n",
      "Epoch 47/100\n",
      "4922/4922 [==============================] - 1s 149us/step - loss: 0.4044 - acc: 0.8090\n",
      "Epoch 48/100\n",
      "4922/4922 [==============================] - 1s 144us/step - loss: 0.4033 - acc: 0.8096\n",
      "Epoch 49/100\n",
      "4922/4922 [==============================] - 1s 154us/step - loss: 0.4034 - acc: 0.8121\n",
      "Epoch 50/100\n",
      "4922/4922 [==============================] - 1s 145us/step - loss: 0.4038 - acc: 0.8084\n",
      "Epoch 51/100\n",
      "4922/4922 [==============================] - 1s 156us/step - loss: 0.4036 - acc: 0.8070\n",
      "Epoch 52/100\n",
      "4922/4922 [==============================] - 1s 156us/step - loss: 0.4033 - acc: 0.8094\n",
      "Epoch 53/100\n",
      "4922/4922 [==============================] - 1s 157us/step - loss: 0.4036 - acc: 0.8086\n",
      "Epoch 54/100\n",
      "4922/4922 [==============================] - 1s 156us/step - loss: 0.4030 - acc: 0.8084\n",
      "Epoch 55/100\n",
      "4922/4922 [==============================] - 1s 156us/step - loss: 0.4032 - acc: 0.8082\n",
      "Epoch 56/100\n",
      "4922/4922 [==============================] - 1s 157us/step - loss: 0.4030 - acc: 0.8121\n",
      "Epoch 57/100\n",
      "4922/4922 [==============================] - 1s 156us/step - loss: 0.4027 - acc: 0.8074\n",
      "Epoch 58/100\n",
      "4922/4922 [==============================] - 1s 156us/step - loss: 0.4031 - acc: 0.8121\n",
      "Epoch 59/100\n",
      "4922/4922 [==============================] - 1s 157us/step - loss: 0.4028 - acc: 0.8094\n",
      "Epoch 60/100\n",
      "4922/4922 [==============================] - 1s 156us/step - loss: 0.4027 - acc: 0.8106\n",
      "Epoch 61/100\n",
      "4922/4922 [==============================] - 1s 156us/step - loss: 0.4024 - acc: 0.8082\n",
      "Epoch 62/100\n",
      "4922/4922 [==============================] - 1s 155us/step - loss: 0.4023 - acc: 0.8094\n",
      "Epoch 63/100\n",
      "4922/4922 [==============================] - 1s 156us/step - loss: 0.4023 - acc: 0.8113\n",
      "Epoch 64/100\n",
      "4922/4922 [==============================] - 1s 156us/step - loss: 0.4028 - acc: 0.8104\n",
      "Epoch 65/100\n",
      "4922/4922 [==============================] - 1s 156us/step - loss: 0.4018 - acc: 0.8127\n",
      "Epoch 66/100\n",
      "4922/4922 [==============================] - 1s 155us/step - loss: 0.4014 - acc: 0.8119\n",
      "Epoch 67/100\n",
      "4922/4922 [==============================] - 1s 156us/step - loss: 0.4018 - acc: 0.8104\n",
      "Epoch 68/100\n",
      "4922/4922 [==============================] - 1s 157us/step - loss: 0.4014 - acc: 0.8106\n",
      "Epoch 69/100\n",
      "4922/4922 [==============================] - 1s 151us/step - loss: 0.4020 - acc: 0.8086\n",
      "Epoch 70/100\n",
      "4922/4922 [==============================] - 1s 150us/step - loss: 0.4017 - acc: 0.8102\n",
      "Epoch 71/100\n",
      "4922/4922 [==============================] - 1s 151us/step - loss: 0.4008 - acc: 0.8102\n",
      "Epoch 72/100\n",
      "4922/4922 [==============================] - 1s 158us/step - loss: 0.4007 - acc: 0.8094\n",
      "Epoch 73/100\n",
      "4922/4922 [==============================] - 1s 156us/step - loss: 0.4011 - acc: 0.8098\n",
      "Epoch 74/100\n",
      "4922/4922 [==============================] - 1s 155us/step - loss: 0.4013 - acc: 0.8102\n",
      "Epoch 75/100\n",
      "4922/4922 [==============================] - 1s 156us/step - loss: 0.4006 - acc: 0.8119\n",
      "Epoch 76/100\n",
      "4922/4922 [==============================] - 1s 156us/step - loss: 0.4009 - acc: 0.8117\n",
      "Epoch 77/100\n",
      "4922/4922 [==============================] - 1s 146us/step - loss: 0.4008 - acc: 0.8102\n",
      "Epoch 78/100\n",
      "4922/4922 [==============================] - 1s 155us/step - loss: 0.4004 - acc: 0.8098\n",
      "Epoch 79/100\n",
      "4922/4922 [==============================] - 1s 155us/step - loss: 0.4006 - acc: 0.8090\n",
      "Epoch 80/100\n",
      "4922/4922 [==============================] - 1s 156us/step - loss: 0.4000 - acc: 0.8113\n",
      "Epoch 81/100\n",
      "4922/4922 [==============================] - 1s 156us/step - loss: 0.4007 - acc: 0.8090\n",
      "Epoch 82/100\n"
     ]
    },
    {
     "name": "stdout",
     "output_type": "stream",
     "text": [
      "4922/4922 [==============================] - 1s 152us/step - loss: 0.4004 - acc: 0.8104\n",
      "Epoch 83/100\n",
      "4922/4922 [==============================] - 1s 138us/step - loss: 0.4004 - acc: 0.8117\n",
      "Epoch 84/100\n",
      "4922/4922 [==============================] - 1s 150us/step - loss: 0.3996 - acc: 0.8117\n",
      "Epoch 85/100\n",
      "4922/4922 [==============================] - 1s 151us/step - loss: 0.3995 - acc: 0.8102\n",
      "Epoch 86/100\n",
      "4922/4922 [==============================] - 1s 151us/step - loss: 0.3995 - acc: 0.8125\n",
      "Epoch 87/100\n",
      "4922/4922 [==============================] - 1s 152us/step - loss: 0.3989 - acc: 0.8123\n",
      "Epoch 88/100\n",
      "4922/4922 [==============================] - 1s 142us/step - loss: 0.3998 - acc: 0.8108\n",
      "Epoch 89/100\n",
      "4922/4922 [==============================] - 1s 151us/step - loss: 0.3997 - acc: 0.8145\n",
      "Epoch 90/100\n",
      "4922/4922 [==============================] - 1s 146us/step - loss: 0.3991 - acc: 0.8113\n",
      "Epoch 91/100\n",
      "4922/4922 [==============================] - 1s 147us/step - loss: 0.3997 - acc: 0.8100\n",
      "Epoch 92/100\n",
      "4922/4922 [==============================] - 1s 151us/step - loss: 0.3997 - acc: 0.8119\n",
      "Epoch 93/100\n",
      "4922/4922 [==============================] - 1s 143us/step - loss: 0.3987 - acc: 0.8137\n",
      "Epoch 94/100\n",
      "4922/4922 [==============================] - 1s 152us/step - loss: 0.3991 - acc: 0.8102\n",
      "Epoch 95/100\n",
      "4922/4922 [==============================] - 1s 146us/step - loss: 0.3991 - acc: 0.8127\n",
      "Epoch 96/100\n",
      "4922/4922 [==============================] - 1s 150us/step - loss: 0.3992 - acc: 0.8127\n",
      "Epoch 97/100\n",
      "4922/4922 [==============================] - 1s 143us/step - loss: 0.3993 - acc: 0.8145\n",
      "Epoch 98/100\n",
      "4922/4922 [==============================] - 1s 146us/step - loss: 0.3992 - acc: 0.8133\n",
      "Epoch 99/100\n",
      "4922/4922 [==============================] - 1s 142us/step - loss: 0.3987 - acc: 0.8151\n",
      "Epoch 100/100\n",
      "4922/4922 [==============================] - 1s 151us/step - loss: 0.3992 - acc: 0.8098\n"
     ]
    }
   ],
   "source": [
    "import keras\n",
    "from keras.models import Sequential\n",
    "from keras.layers import Dense\n",
    "\n",
    "# Initialising the ANN\n",
    "classifier = Sequential()\n",
    "\n",
    "# Adding the input layer and the first hidden layer\n",
    "classifier.add(Dense(units = 6, kernel_initializer = 'uniform', activation = 'relu', input_dim = 33))\n",
    "\n",
    "# Adding the second hidden layer\n",
    "classifier.add(Dense(units = 6, kernel_initializer = 'uniform', activation = 'relu'))\n",
    "\n",
    "# Adding the output layer\n",
    "classifier.add(Dense(units = 1, kernel_initializer = 'uniform', activation = 'sigmoid'))\n",
    "\n",
    "# Compiling the ANN\n",
    "classifier.compile(optimizer = 'adam', loss = 'binary_crossentropy', metrics = ['accuracy'])\n",
    "\n",
    "# Fitting the ANN to the Training set\n",
    "classifier.fit(X_train, np.ravel(y_train), batch_size = 10, epochs = 100)\n",
    "# Part 3 - Making predictions and evaluating the model\n",
    "\n",
    "# Predicting the Test set results\n",
    "y_pred = classifier.predict(X_test)"
   ]
  },
  {
   "cell_type": "code",
   "execution_count": 22,
   "metadata": {},
   "outputs": [],
   "source": [
    "# Making the Confusion Matrix\n",
    "from sklearn.metrics import confusion_matrix\n",
    "cm = confusion_matrix(y_test, y_pred)\n",
    "print(cm)\n",
    "print('Accuracy Score:')\n",
    "print(metrics.accuracy_score(y_test,y_pred))"
   ]
  },
  {
   "cell_type": "code",
   "execution_count": null,
   "metadata": {},
   "outputs": [],
   "source": []
  }
 ],
 "metadata": {
  "kernelspec": {
   "display_name": "Python [conda root]",
   "language": "python",
   "name": "conda-root-py"
  },
  "language_info": {
   "codemirror_mode": {
    "name": "ipython",
    "version": 3
   },
   "file_extension": ".py",
   "mimetype": "text/x-python",
   "name": "python",
   "nbconvert_exporter": "python",
   "pygments_lexer": "ipython3",
   "version": "3.5.6"
  }
 },
 "nbformat": 4,
 "nbformat_minor": 2
}
